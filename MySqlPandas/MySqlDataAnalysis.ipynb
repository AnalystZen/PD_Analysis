{
 "cells": [
  {
   "cell_type": "markdown",
   "id": "a754aa80",
   "metadata": {},
   "source": [
    "MYSQL EXPLORATORY DATA ANALYSIS USING PYTHON-PANDAS...\n",
    "By AL"
   ]
  },
  {
   "cell_type": "code",
   "execution_count": 1,
   "id": "d399c450",
   "metadata": {},
   "outputs": [],
   "source": [
    "# import libraries\n",
    "import mysql.connector\n",
    "import pandas as pd\n",
    "import matplotlib.pyplot as plt\n",
    "import numpy as np"
   ]
  },
  {
   "cell_type": "code",
   "execution_count": null,
   "id": "24151ac7",
   "metadata": {},
   "outputs": [
    {
     "name": "stdout",
     "output_type": "stream",
     "text": [
      "Connected to MySQL database\n"
     ]
    }
   ],
   "source": [
    "# Establish  and verfiy connection to mysql server\n",
    "conn = mysql.connector.connect(\n",
    "    host=\"localhost\",\n",
    "    user=\"\",\n",
    "    password=\"\",\n",
    "    database=\"InventoryDB\"\n",
    ")\n",
    "\n",
    "# Establish cursor for query\n",
    "cursor = conn.cursor()\n",
    "\n",
    "# Check if connection is successful\n",
    "if conn.is_connected():\n",
    "    print(\"Connected to MySQL database\")\n",
    "else:\n",
    "    print(\"Not connected\")\n",
    "\n",
    "# Close the connection\n",
    "conn.close()"
   ]
  },
  {
   "cell_type": "markdown",
   "id": "35096018",
   "metadata": {},
   "source": [
    "What tables are part of the database schema?"
   ]
  },
  {
   "cell_type": "code",
   "execution_count": 3,
   "id": "503f4a3a",
   "metadata": {},
   "outputs": [
    {
     "name": "stdout",
     "output_type": "stream",
     "text": [
      "Tabels: [('categories',), ('customers',), ('orderdetails',), ('orders',), ('products',), ('suppliers',)]\n"
     ]
    }
   ],
   "source": [
    "conn.connect()\n",
    "try:\n",
    "    # get tables of database   \n",
    "    cursor.execute(\"SHOW TABLES\")\n",
    "    tables = cursor.fetchall()\n",
    "    print(f\"Tabels: {tables}\")\n",
    "    \n",
    "finally:\n",
    "    # Close connection\n",
    "    conn.close()"
   ]
  },
  {
   "cell_type": "markdown",
   "id": "d0c8941d",
   "metadata": {},
   "source": [
    "What datapoints are there for customers in the database?"
   ]
  },
  {
   "cell_type": "code",
   "execution_count": 4,
   "id": "03b5b2f3",
   "metadata": {},
   "outputs": [
    {
     "name": "stdout",
     "output_type": "stream",
     "text": [
      "['customer_id', 'name', 'email', 'phone', 'address', 'state', 'gender']\n"
     ]
    }
   ],
   "source": [
    "# Open connection\n",
    "conn.connect()\n",
    "try:   \n",
    "    cursor.execute(\"SELECT * FROM customers\")\n",
    "\n",
    "    # Get headers\n",
    "    headers = [i[0] for i in cursor.description]\n",
    "    print(headers)\n",
    "\n",
    "    # get rows of data\n",
    "    rows = cursor.fetchall()\n",
    "    #for row in rows:\n",
    "        #print(row)\n",
    "finally:\n",
    "    # Close connection\n",
    "    conn.close()"
   ]
  },
  {
   "cell_type": "code",
   "execution_count": 5,
   "id": "a1c8e384",
   "metadata": {},
   "outputs": [
    {
     "data": {
      "text/html": [
       "<div>\n",
       "<style scoped>\n",
       "    .dataframe tbody tr th:only-of-type {\n",
       "        vertical-align: middle;\n",
       "    }\n",
       "\n",
       "    .dataframe tbody tr th {\n",
       "        vertical-align: top;\n",
       "    }\n",
       "\n",
       "    .dataframe thead th {\n",
       "        text-align: right;\n",
       "    }\n",
       "</style>\n",
       "<table border=\"1\" class=\"dataframe\">\n",
       "  <thead>\n",
       "    <tr style=\"text-align: right;\">\n",
       "      <th></th>\n",
       "      <th>name</th>\n",
       "      <th>email</th>\n",
       "      <th>phone</th>\n",
       "      <th>address</th>\n",
       "      <th>state</th>\n",
       "      <th>gender</th>\n",
       "    </tr>\n",
       "    <tr>\n",
       "      <th>customer_id</th>\n",
       "      <th></th>\n",
       "      <th></th>\n",
       "      <th></th>\n",
       "      <th></th>\n",
       "      <th></th>\n",
       "      <th></th>\n",
       "    </tr>\n",
       "  </thead>\n",
       "  <tbody>\n",
       "    <tr>\n",
       "      <th>1</th>\n",
       "      <td>Alice Johnson</td>\n",
       "      <td>alice@example.com</td>\n",
       "      <td>111222333</td>\n",
       "      <td>789 Main St</td>\n",
       "      <td>PA</td>\n",
       "      <td>Female</td>\n",
       "    </tr>\n",
       "    <tr>\n",
       "      <th>2</th>\n",
       "      <td>Bob Williams</td>\n",
       "      <td>bob@example.com</td>\n",
       "      <td>444555666</td>\n",
       "      <td>321 Oak St</td>\n",
       "      <td>LA</td>\n",
       "      <td>Male</td>\n",
       "    </tr>\n",
       "    <tr>\n",
       "      <th>3</th>\n",
       "      <td>Charlie Green</td>\n",
       "      <td>charlie@example.com</td>\n",
       "      <td>777888999</td>\n",
       "      <td>654 Elm St</td>\n",
       "      <td>NV</td>\n",
       "      <td>Male</td>\n",
       "    </tr>\n",
       "    <tr>\n",
       "      <th>4</th>\n",
       "      <td>David Miller</td>\n",
       "      <td>david@example.com</td>\n",
       "      <td>333444555</td>\n",
       "      <td>987 Pine St</td>\n",
       "      <td>PA</td>\n",
       "      <td>Male</td>\n",
       "    </tr>\n",
       "    <tr>\n",
       "      <th>5</th>\n",
       "      <td>Emma Thomas</td>\n",
       "      <td>emma@example.com</td>\n",
       "      <td>666777888</td>\n",
       "      <td>123 Maple St</td>\n",
       "      <td>CO</td>\n",
       "      <td>Female</td>\n",
       "    </tr>\n",
       "  </tbody>\n",
       "</table>\n",
       "</div>"
      ],
      "text/plain": [
       "                      name                email      phone       address  \\\n",
       "customer_id                                                                \n",
       "1            Alice Johnson    alice@example.com  111222333   789 Main St   \n",
       "2             Bob Williams      bob@example.com  444555666    321 Oak St   \n",
       "3            Charlie Green  charlie@example.com  777888999    654 Elm St   \n",
       "4             David Miller    david@example.com  333444555   987 Pine St   \n",
       "5              Emma Thomas     emma@example.com  666777888  123 Maple St   \n",
       "\n",
       "            state  gender  \n",
       "customer_id                \n",
       "1              PA  Female  \n",
       "2              LA    Male  \n",
       "3              NV    Male  \n",
       "4              PA    Male  \n",
       "5              CO  Female  "
      ]
     },
     "execution_count": 5,
     "metadata": {},
     "output_type": "execute_result"
    }
   ],
   "source": [
    "# creating a panda df with the sql query\n",
    "dfcustomer = pd.DataFrame(data=rows,columns=headers).set_index(['customer_id'])\n",
    "dfcustomer.head()"
   ]
  },
  {
   "cell_type": "markdown",
   "id": "bc1c0f25",
   "metadata": {},
   "source": [
    "Customer demographics?"
   ]
  },
  {
   "cell_type": "code",
   "execution_count": 6,
   "id": "64a6916c",
   "metadata": {},
   "outputs": [
    {
     "data": {
      "text/html": [
       "<div>\n",
       "<style scoped>\n",
       "    .dataframe tbody tr th:only-of-type {\n",
       "        vertical-align: middle;\n",
       "    }\n",
       "\n",
       "    .dataframe tbody tr th {\n",
       "        vertical-align: top;\n",
       "    }\n",
       "\n",
       "    .dataframe thead th {\n",
       "        text-align: right;\n",
       "    }\n",
       "</style>\n",
       "<table border=\"1\" class=\"dataframe\">\n",
       "  <thead>\n",
       "    <tr style=\"text-align: right;\">\n",
       "      <th></th>\n",
       "      <th>name</th>\n",
       "      <th>email</th>\n",
       "      <th>phone</th>\n",
       "      <th>address</th>\n",
       "      <th>state</th>\n",
       "      <th>gender</th>\n",
       "    </tr>\n",
       "  </thead>\n",
       "  <tbody>\n",
       "    <tr>\n",
       "      <th>count</th>\n",
       "      <td>20</td>\n",
       "      <td>20</td>\n",
       "      <td>20</td>\n",
       "      <td>20</td>\n",
       "      <td>20</td>\n",
       "      <td>20</td>\n",
       "    </tr>\n",
       "    <tr>\n",
       "      <th>unique</th>\n",
       "      <td>20</td>\n",
       "      <td>20</td>\n",
       "      <td>19</td>\n",
       "      <td>20</td>\n",
       "      <td>10</td>\n",
       "      <td>2</td>\n",
       "    </tr>\n",
       "    <tr>\n",
       "      <th>top</th>\n",
       "      <td>Alice Johnson</td>\n",
       "      <td>alice@example.com</td>\n",
       "      <td>333222111</td>\n",
       "      <td>789 Main St</td>\n",
       "      <td>PA</td>\n",
       "      <td>Male</td>\n",
       "    </tr>\n",
       "    <tr>\n",
       "      <th>freq</th>\n",
       "      <td>1</td>\n",
       "      <td>1</td>\n",
       "      <td>2</td>\n",
       "      <td>1</td>\n",
       "      <td>5</td>\n",
       "      <td>12</td>\n",
       "    </tr>\n",
       "  </tbody>\n",
       "</table>\n",
       "</div>"
      ],
      "text/plain": [
       "                 name              email      phone      address state gender\n",
       "count              20                 20         20           20    20     20\n",
       "unique             20                 20         19           20    10      2\n",
       "top     Alice Johnson  alice@example.com  333222111  789 Main St    PA   Male\n",
       "freq                1                  1          2            1     5     12"
      ]
     },
     "execution_count": 6,
     "metadata": {},
     "output_type": "execute_result"
    }
   ],
   "source": [
    "# general stats on the customer table\n",
    "dfcustomer.describe()"
   ]
  },
  {
   "cell_type": "code",
   "execution_count": 7,
   "id": "74df7ef3",
   "metadata": {},
   "outputs": [
    {
     "data": {
      "text/plain": [
       "<Axes: xlabel='gender'>"
      ]
     },
     "execution_count": 7,
     "metadata": {},
     "output_type": "execute_result"
    },
    {
     "data": {
      "image/png": "[encoded data removed]",
      "text/plain": [
       "<Figure size 400x200 with 1 Axes>"
      ]
     },
     "metadata": {},
     "output_type": "display_data"
    }
   ],
   "source": [
    "# breakdown of gender of the customers\n",
    "dfcustomer[['gender','name']].groupby(by='gender').count().plot(kind='bar',figsize=(4,2),legend=False)"
   ]
  },
  {
   "cell_type": "markdown",
   "id": "681271d9",
   "metadata": {},
   "source": [
    "What customers are placing the most orders?"
   ]
  },
  {
   "cell_type": "code",
   "execution_count": 8,
   "id": "a023e325",
   "metadata": {},
   "outputs": [
    {
     "data": {
      "text/html": [
       "<div>\n",
       "<style scoped>\n",
       "    .dataframe tbody tr th:only-of-type {\n",
       "        vertical-align: middle;\n",
       "    }\n",
       "\n",
       "    .dataframe tbody tr th {\n",
       "        vertical-align: top;\n",
       "    }\n",
       "\n",
       "    .dataframe thead th {\n",
       "        text-align: right;\n",
       "    }\n",
       "</style>\n",
       "<table border=\"1\" class=\"dataframe\">\n",
       "  <thead>\n",
       "    <tr style=\"text-align: right;\">\n",
       "      <th></th>\n",
       "      <th>customer_id</th>\n",
       "      <th>order_date</th>\n",
       "      <th>total_amount</th>\n",
       "      <th>status</th>\n",
       "    </tr>\n",
       "    <tr>\n",
       "      <th>order_id</th>\n",
       "      <th></th>\n",
       "      <th></th>\n",
       "      <th></th>\n",
       "      <th></th>\n",
       "    </tr>\n",
       "  </thead>\n",
       "  <tbody>\n",
       "    <tr>\n",
       "      <th>1</th>\n",
       "      <td>1</td>\n",
       "      <td>2024-05-01 10:30:00</td>\n",
       "      <td>1200.00</td>\n",
       "      <td>Completed</td>\n",
       "    </tr>\n",
       "    <tr>\n",
       "      <th>2</th>\n",
       "      <td>2</td>\n",
       "      <td>2024-05-02 12:45:00</td>\n",
       "      <td>150.00</td>\n",
       "      <td>Pending</td>\n",
       "    </tr>\n",
       "    <tr>\n",
       "      <th>3</th>\n",
       "      <td>3</td>\n",
       "      <td>2024-05-03 09:20:00</td>\n",
       "      <td>800.00</td>\n",
       "      <td>Shipped</td>\n",
       "    </tr>\n",
       "    <tr>\n",
       "      <th>4</th>\n",
       "      <td>1</td>\n",
       "      <td>2024-05-04 15:10:00</td>\n",
       "      <td>500.00</td>\n",
       "      <td>Processing</td>\n",
       "    </tr>\n",
       "    <tr>\n",
       "      <th>5</th>\n",
       "      <td>2</td>\n",
       "      <td>2024-05-05 11:00:00</td>\n",
       "      <td>45.00</td>\n",
       "      <td>Completed</td>\n",
       "    </tr>\n",
       "  </tbody>\n",
       "</table>\n",
       "</div>"
      ],
      "text/plain": [
       "          customer_id          order_date total_amount      status\n",
       "order_id                                                          \n",
       "1                   1 2024-05-01 10:30:00      1200.00   Completed\n",
       "2                   2 2024-05-02 12:45:00       150.00     Pending\n",
       "3                   3 2024-05-03 09:20:00       800.00     Shipped\n",
       "4                   1 2024-05-04 15:10:00       500.00  Processing\n",
       "5                   2 2024-05-05 11:00:00        45.00   Completed"
      ]
     },
     "execution_count": 8,
     "metadata": {},
     "output_type": "execute_result"
    }
   ],
   "source": [
    "# get the order details \n",
    "conn.connect()\n",
    "try:\n",
    "    cursor.execute('SELECT * FROM orders')\n",
    "    # get headers\n",
    "    headers = [i[0] for i in cursor.description]\n",
    "    \n",
    "    # get rows\n",
    "    rows = cursor.fetchall()\n",
    "\n",
    "    # directly create pandas df\n",
    "    dforderdetails = pd.DataFrame(data=rows,columns=headers).set_index('order_id') \n",
    "\n",
    "finally:\n",
    "    conn.close() \n",
    "\n",
    "# verify sql query\n",
    "dforderdetails.head()"
   ]
  },
  {
   "cell_type": "code",
   "execution_count": 32,
   "id": "3ad82fcd",
   "metadata": {},
   "outputs": [
    {
     "data": {
      "text/html": [
       "<div>\n",
       "<style scoped>\n",
       "    .dataframe tbody tr th:only-of-type {\n",
       "        vertical-align: middle;\n",
       "    }\n",
       "\n",
       "    .dataframe tbody tr th {\n",
       "        vertical-align: top;\n",
       "    }\n",
       "\n",
       "    .dataframe thead th {\n",
       "        text-align: right;\n",
       "    }\n",
       "</style>\n",
       "<table border=\"1\" class=\"dataframe\">\n",
       "  <thead>\n",
       "    <tr style=\"text-align: right;\">\n",
       "      <th></th>\n",
       "      <th>name</th>\n",
       "      <th>email</th>\n",
       "      <th>phone</th>\n",
       "      <th>address</th>\n",
       "      <th>state</th>\n",
       "      <th>gender</th>\n",
       "      <th>order_date</th>\n",
       "      <th>total_amount</th>\n",
       "      <th>status</th>\n",
       "    </tr>\n",
       "    <tr>\n",
       "      <th>customer_id</th>\n",
       "      <th></th>\n",
       "      <th></th>\n",
       "      <th></th>\n",
       "      <th></th>\n",
       "      <th></th>\n",
       "      <th></th>\n",
       "      <th></th>\n",
       "      <th></th>\n",
       "      <th></th>\n",
       "    </tr>\n",
       "  </thead>\n",
       "  <tbody>\n",
       "    <tr>\n",
       "      <th>1</th>\n",
       "      <td>Alice Johnson</td>\n",
       "      <td>alice@example.com</td>\n",
       "      <td>111222333</td>\n",
       "      <td>789 Main St</td>\n",
       "      <td>PA</td>\n",
       "      <td>Female</td>\n",
       "      <td>2024-05-01 10:30:00</td>\n",
       "      <td>1200.00</td>\n",
       "      <td>Completed</td>\n",
       "    </tr>\n",
       "    <tr>\n",
       "      <th>1</th>\n",
       "      <td>Alice Johnson</td>\n",
       "      <td>alice@example.com</td>\n",
       "      <td>111222333</td>\n",
       "      <td>789 Main St</td>\n",
       "      <td>PA</td>\n",
       "      <td>Female</td>\n",
       "      <td>2024-05-04 15:10:00</td>\n",
       "      <td>500.00</td>\n",
       "      <td>Processing</td>\n",
       "    </tr>\n",
       "    <tr>\n",
       "      <th>1</th>\n",
       "      <td>Alice Johnson</td>\n",
       "      <td>alice@example.com</td>\n",
       "      <td>111222333</td>\n",
       "      <td>789 Main St</td>\n",
       "      <td>PA</td>\n",
       "      <td>Female</td>\n",
       "      <td>2025-05-01 10:30:00</td>\n",
       "      <td>1200.00</td>\n",
       "      <td>Completed</td>\n",
       "    </tr>\n",
       "    <tr>\n",
       "      <th>1</th>\n",
       "      <td>Alice Johnson</td>\n",
       "      <td>alice@example.com</td>\n",
       "      <td>111222333</td>\n",
       "      <td>789 Main St</td>\n",
       "      <td>PA</td>\n",
       "      <td>Female</td>\n",
       "      <td>2025-05-04 15:10:00</td>\n",
       "      <td>500.00</td>\n",
       "      <td>Processing</td>\n",
       "    </tr>\n",
       "    <tr>\n",
       "      <th>2</th>\n",
       "      <td>Bob Williams</td>\n",
       "      <td>bob@example.com</td>\n",
       "      <td>444555666</td>\n",
       "      <td>321 Oak St</td>\n",
       "      <td>LA</td>\n",
       "      <td>Male</td>\n",
       "      <td>2024-05-02 12:45:00</td>\n",
       "      <td>150.00</td>\n",
       "      <td>Pending</td>\n",
       "    </tr>\n",
       "  </tbody>\n",
       "</table>\n",
       "</div>"
      ],
      "text/plain": [
       "                      name              email      phone      address state  \\\n",
       "customer_id                                                                   \n",
       "1            Alice Johnson  alice@example.com  111222333  789 Main St    PA   \n",
       "1            Alice Johnson  alice@example.com  111222333  789 Main St    PA   \n",
       "1            Alice Johnson  alice@example.com  111222333  789 Main St    PA   \n",
       "1            Alice Johnson  alice@example.com  111222333  789 Main St    PA   \n",
       "2             Bob Williams    bob@example.com  444555666   321 Oak St    LA   \n",
       "\n",
       "             gender          order_date total_amount      status  \n",
       "customer_id                                                       \n",
       "1            Female 2024-05-01 10:30:00      1200.00   Completed  \n",
       "1            Female 2024-05-04 15:10:00       500.00  Processing  \n",
       "1            Female 2025-05-01 10:30:00      1200.00   Completed  \n",
       "1            Female 2025-05-04 15:10:00       500.00  Processing  \n",
       "2              Male 2024-05-02 12:45:00       150.00     Pending  "
      ]
     },
     "execution_count": 32,
     "metadata": {},
     "output_type": "execute_result"
    }
   ],
   "source": [
    "# joining df querys to look at customer order history, left join to keep complete customer list\n",
    "dfcustomerorders = pd.merge(dfcustomer,dforderdetails,on='customer_id',how='left').set_index('customer_id')\n",
    "dfcustomerorders.head()"
   ]
  },
  {
   "cell_type": "markdown",
   "id": "30902a50",
   "metadata": {},
   "source": [
    "What is the total sum of orders placed? "
   ]
  },
  {
   "cell_type": "code",
   "execution_count": 45,
   "id": "e5bdcb69",
   "metadata": {},
   "outputs": [
    {
     "data": {
      "text/plain": [
       "Decimal('13110.00')"
      ]
     },
     "execution_count": 45,
     "metadata": {},
     "output_type": "execute_result"
    }
   ],
   "source": [
    "qry_aggsum = dfcustomerorders['total_amount'].fillna(0)\n",
    "qry_aggsum.sum()"
   ]
  },
  {
   "cell_type": "code",
   "execution_count": 10,
   "id": "ce3321c7",
   "metadata": {},
   "outputs": [],
   "source": [
    "# create query of order count by customer\n",
    "qry_orders = (dfcustomerorders[['name','gender','address','phone','status','state']]\n",
    ".groupby(by=['customer_id','name','gender','address','phone','state']).count()\n",
    ".rename(columns={'status': 'order count'})\n",
    ")"
   ]
  },
  {
   "cell_type": "code",
   "execution_count": 11,
   "id": "43cbefa1",
   "metadata": {},
   "outputs": [
    {
     "data": {
      "text/html": [
       "<div>\n",
       "<style scoped>\n",
       "    .dataframe tbody tr th:only-of-type {\n",
       "        vertical-align: middle;\n",
       "    }\n",
       "\n",
       "    .dataframe tbody tr th {\n",
       "        vertical-align: top;\n",
       "    }\n",
       "\n",
       "    .dataframe thead th {\n",
       "        text-align: right;\n",
       "    }\n",
       "</style>\n",
       "<table border=\"1\" class=\"dataframe\">\n",
       "  <thead>\n",
       "    <tr style=\"text-align: right;\">\n",
       "      <th></th>\n",
       "      <th></th>\n",
       "      <th></th>\n",
       "      <th></th>\n",
       "      <th></th>\n",
       "      <th></th>\n",
       "      <th>order count</th>\n",
       "    </tr>\n",
       "    <tr>\n",
       "      <th>customer_id</th>\n",
       "      <th>name</th>\n",
       "      <th>gender</th>\n",
       "      <th>address</th>\n",
       "      <th>phone</th>\n",
       "      <th>state</th>\n",
       "      <th></th>\n",
       "    </tr>\n",
       "  </thead>\n",
       "  <tbody>\n",
       "    <tr>\n",
       "      <th>3</th>\n",
       "      <th>Charlie Green</th>\n",
       "      <th>Male</th>\n",
       "      <th>654 Elm St</th>\n",
       "      <th>777888999</th>\n",
       "      <th>NV</th>\n",
       "      <td>8</td>\n",
       "    </tr>\n",
       "    <tr>\n",
       "      <th>2</th>\n",
       "      <th>Bob Williams</th>\n",
       "      <th>Male</th>\n",
       "      <th>321 Oak St</th>\n",
       "      <th>444555666</th>\n",
       "      <th>LA</th>\n",
       "      <td>6</td>\n",
       "    </tr>\n",
       "    <tr>\n",
       "      <th>5</th>\n",
       "      <th>Emma Thomas</th>\n",
       "      <th>Female</th>\n",
       "      <th>123 Maple St</th>\n",
       "      <th>666777888</th>\n",
       "      <th>CO</th>\n",
       "      <td>6</td>\n",
       "    </tr>\n",
       "    <tr>\n",
       "      <th>12</th>\n",
       "      <th>Mia Evans</th>\n",
       "      <th>Female</th>\n",
       "      <th>678 River Rd</th>\n",
       "      <th>555444333</th>\n",
       "      <th>TX</th>\n",
       "      <td>6</td>\n",
       "    </tr>\n",
       "    <tr>\n",
       "      <th>1</th>\n",
       "      <th>Alice Johnson</th>\n",
       "      <th>Female</th>\n",
       "      <th>789 Main St</th>\n",
       "      <th>111222333</th>\n",
       "      <th>PA</th>\n",
       "      <td>4</td>\n",
       "    </tr>\n",
       "    <tr>\n",
       "      <th>9</th>\n",
       "      <th>Isaac Walker</th>\n",
       "      <th>Male</th>\n",
       "      <th>678 Cherry St</th>\n",
       "      <th>000111222</th>\n",
       "      <th>LA</th>\n",
       "      <td>4</td>\n",
       "    </tr>\n",
       "    <tr>\n",
       "      <th>11</th>\n",
       "      <th>Liam Carter</th>\n",
       "      <th>Male</th>\n",
       "      <th>901 Lake St</th>\n",
       "      <th>444333222</th>\n",
       "      <th>RI</th>\n",
       "      <td>4</td>\n",
       "    </tr>\n",
       "    <tr>\n",
       "      <th>6</th>\n",
       "      <th>Frank Robinson</th>\n",
       "      <th>Male</th>\n",
       "      <th>876 Cedar St</th>\n",
       "      <th>222333444</th>\n",
       "      <th>NY</th>\n",
       "      <td>2</td>\n",
       "    </tr>\n",
       "  </tbody>\n",
       "</table>\n",
       "</div>"
      ],
      "text/plain": [
       "                                                                 order count\n",
       "customer_id name           gender address       phone     state             \n",
       "3           Charlie Green  Male   654 Elm St    777888999 NV               8\n",
       "2           Bob Williams   Male   321 Oak St    444555666 LA               6\n",
       "5           Emma Thomas    Female 123 Maple St  666777888 CO               6\n",
       "12          Mia Evans      Female 678 River Rd  555444333 TX               6\n",
       "1           Alice Johnson  Female 789 Main St   111222333 PA               4\n",
       "9           Isaac Walker   Male   678 Cherry St 000111222 LA               4\n",
       "11          Liam Carter    Male   901 Lake St   444333222 RI               4\n",
       "6           Frank Robinson Male   876 Cedar St  222333444 NY               2"
      ]
     },
     "execution_count": 11,
     "metadata": {},
     "output_type": "execute_result"
    }
   ],
   "source": [
    "# check customers who placed the most orders\n",
    "qry_orders.loc[qry_orders['order count'] > 0].sort_values(by='order count',ascending=False)"
   ]
  },
  {
   "cell_type": "markdown",
   "id": "37f58095",
   "metadata": {},
   "source": [
    "what is the sum total of orders placed by customers?"
   ]
  },
  {
   "cell_type": "code",
   "execution_count": 12,
   "id": "cc5f138f",
   "metadata": {},
   "outputs": [],
   "source": [
    "# create a query of total amount spent per customer\n",
    "qry_totalsum = (dfcustomerorders[['name','gender','address','phone','state','total_amount']]\n",
    " .groupby(by=['customer_id','name','gender','address','phone','state'])\n",
    " .sum()\n",
    " )"
   ]
  },
  {
   "cell_type": "code",
   "execution_count": 13,
   "id": "3da4cb78",
   "metadata": {},
   "outputs": [
    {
     "data": {
      "text/html": [
       "<div>\n",
       "<style scoped>\n",
       "    .dataframe tbody tr th:only-of-type {\n",
       "        vertical-align: middle;\n",
       "    }\n",
       "\n",
       "    .dataframe tbody tr th {\n",
       "        vertical-align: top;\n",
       "    }\n",
       "\n",
       "    .dataframe thead th {\n",
       "        text-align: right;\n",
       "    }\n",
       "</style>\n",
       "<table border=\"1\" class=\"dataframe\">\n",
       "  <thead>\n",
       "    <tr style=\"text-align: right;\">\n",
       "      <th></th>\n",
       "      <th></th>\n",
       "      <th></th>\n",
       "      <th></th>\n",
       "      <th></th>\n",
       "      <th></th>\n",
       "      <th>total_amount</th>\n",
       "    </tr>\n",
       "    <tr>\n",
       "      <th>customer_id</th>\n",
       "      <th>name</th>\n",
       "      <th>gender</th>\n",
       "      <th>address</th>\n",
       "      <th>phone</th>\n",
       "      <th>state</th>\n",
       "      <th></th>\n",
       "    </tr>\n",
       "  </thead>\n",
       "  <tbody>\n",
       "    <tr>\n",
       "      <th>1</th>\n",
       "      <th>Alice Johnson</th>\n",
       "      <th>Female</th>\n",
       "      <th>789 Main St</th>\n",
       "      <th>111222333</th>\n",
       "      <th>PA</th>\n",
       "      <td>3400.00</td>\n",
       "    </tr>\n",
       "    <tr>\n",
       "      <th>3</th>\n",
       "      <th>Charlie Green</th>\n",
       "      <th>Male</th>\n",
       "      <th>654 Elm St</th>\n",
       "      <th>777888999</th>\n",
       "      <th>NV</th>\n",
       "      <td>2950.00</td>\n",
       "    </tr>\n",
       "    <tr>\n",
       "      <th>5</th>\n",
       "      <th>Emma Thomas</th>\n",
       "      <th>Female</th>\n",
       "      <th>123 Maple St</th>\n",
       "      <th>666777888</th>\n",
       "      <th>CO</th>\n",
       "      <td>1770.00</td>\n",
       "    </tr>\n",
       "    <tr>\n",
       "      <th>9</th>\n",
       "      <th>Isaac Walker</th>\n",
       "      <th>Male</th>\n",
       "      <th>678 Cherry St</th>\n",
       "      <th>000111222</th>\n",
       "      <th>LA</th>\n",
       "      <td>1600.00</td>\n",
       "    </tr>\n",
       "    <tr>\n",
       "      <th>12</th>\n",
       "      <th>Mia Evans</th>\n",
       "      <th>Female</th>\n",
       "      <th>678 River Rd</th>\n",
       "      <th>555444333</th>\n",
       "      <th>TX</th>\n",
       "      <td>1500.00</td>\n",
       "    </tr>\n",
       "    <tr>\n",
       "      <th>11</th>\n",
       "      <th>Liam Carter</th>\n",
       "      <th>Male</th>\n",
       "      <th>901 Lake St</th>\n",
       "      <th>444333222</th>\n",
       "      <th>RI</th>\n",
       "      <td>1300.00</td>\n",
       "    </tr>\n",
       "    <tr>\n",
       "      <th>2</th>\n",
       "      <th>Bob Williams</th>\n",
       "      <th>Male</th>\n",
       "      <th>321 Oak St</th>\n",
       "      <th>444555666</th>\n",
       "      <th>LA</th>\n",
       "      <td>470.00</td>\n",
       "    </tr>\n",
       "    <tr>\n",
       "      <th>6</th>\n",
       "      <th>Frank Robinson</th>\n",
       "      <th>Male</th>\n",
       "      <th>876 Cedar St</th>\n",
       "      <th>222333444</th>\n",
       "      <th>NY</th>\n",
       "      <td>120.00</td>\n",
       "    </tr>\n",
       "  </tbody>\n",
       "</table>\n",
       "</div>"
      ],
      "text/plain": [
       "                                                                total_amount\n",
       "customer_id name           gender address       phone     state             \n",
       "1           Alice Johnson  Female 789 Main St   111222333 PA         3400.00\n",
       "3           Charlie Green  Male   654 Elm St    777888999 NV         2950.00\n",
       "5           Emma Thomas    Female 123 Maple St  666777888 CO         1770.00\n",
       "9           Isaac Walker   Male   678 Cherry St 000111222 LA         1600.00\n",
       "12          Mia Evans      Female 678 River Rd  555444333 TX         1500.00\n",
       "11          Liam Carter    Male   901 Lake St   444333222 RI         1300.00\n",
       "2           Bob Williams   Male   321 Oak St    444555666 LA          470.00\n",
       "6           Frank Robinson Male   876 Cedar St  222333444 NY          120.00"
      ]
     },
     "execution_count": 13,
     "metadata": {},
     "output_type": "execute_result"
    }
   ],
   "source": [
    "# customer totals spent sorted\n",
    "qry_totalsum.loc[qry_totalsum['total_amount']>0].sort_values(by='total_amount',ascending=False)"
   ]
  },
  {
   "cell_type": "code",
   "execution_count": 14,
   "id": "c5f4f98f",
   "metadata": {},
   "outputs": [
    {
     "data": {
      "text/html": [
       "<div>\n",
       "<style scoped>\n",
       "    .dataframe tbody tr th:only-of-type {\n",
       "        vertical-align: middle;\n",
       "    }\n",
       "\n",
       "    .dataframe tbody tr th {\n",
       "        vertical-align: top;\n",
       "    }\n",
       "\n",
       "    .dataframe thead th {\n",
       "        text-align: right;\n",
       "    }\n",
       "</style>\n",
       "<table border=\"1\" class=\"dataframe\">\n",
       "  <thead>\n",
       "    <tr style=\"text-align: right;\">\n",
       "      <th></th>\n",
       "      <th></th>\n",
       "      <th></th>\n",
       "      <th></th>\n",
       "      <th></th>\n",
       "      <th></th>\n",
       "      <th>order count</th>\n",
       "      <th>total_amount</th>\n",
       "    </tr>\n",
       "    <tr>\n",
       "      <th>customer_id</th>\n",
       "      <th>name</th>\n",
       "      <th>gender</th>\n",
       "      <th>address</th>\n",
       "      <th>phone</th>\n",
       "      <th>state</th>\n",
       "      <th></th>\n",
       "      <th></th>\n",
       "    </tr>\n",
       "  </thead>\n",
       "  <tbody>\n",
       "    <tr>\n",
       "      <th>1</th>\n",
       "      <th>Alice Johnson</th>\n",
       "      <th>Female</th>\n",
       "      <th>789 Main St</th>\n",
       "      <th>111222333</th>\n",
       "      <th>PA</th>\n",
       "      <td>4</td>\n",
       "      <td>3400.00</td>\n",
       "    </tr>\n",
       "    <tr>\n",
       "      <th>2</th>\n",
       "      <th>Bob Williams</th>\n",
       "      <th>Male</th>\n",
       "      <th>321 Oak St</th>\n",
       "      <th>444555666</th>\n",
       "      <th>LA</th>\n",
       "      <td>6</td>\n",
       "      <td>470.00</td>\n",
       "    </tr>\n",
       "    <tr>\n",
       "      <th>3</th>\n",
       "      <th>Charlie Green</th>\n",
       "      <th>Male</th>\n",
       "      <th>654 Elm St</th>\n",
       "      <th>777888999</th>\n",
       "      <th>NV</th>\n",
       "      <td>8</td>\n",
       "      <td>2950.00</td>\n",
       "    </tr>\n",
       "    <tr>\n",
       "      <th>4</th>\n",
       "      <th>David Miller</th>\n",
       "      <th>Male</th>\n",
       "      <th>987 Pine St</th>\n",
       "      <th>333444555</th>\n",
       "      <th>PA</th>\n",
       "      <td>0</td>\n",
       "      <td>0</td>\n",
       "    </tr>\n",
       "    <tr>\n",
       "      <th>5</th>\n",
       "      <th>Emma Thomas</th>\n",
       "      <th>Female</th>\n",
       "      <th>123 Maple St</th>\n",
       "      <th>666777888</th>\n",
       "      <th>CO</th>\n",
       "      <td>6</td>\n",
       "      <td>1770.00</td>\n",
       "    </tr>\n",
       "  </tbody>\n",
       "</table>\n",
       "</div>"
      ],
      "text/plain": [
       "                                                               order count  \\\n",
       "customer_id name          gender address      phone     state                \n",
       "1           Alice Johnson Female 789 Main St  111222333 PA               4   \n",
       "2           Bob Williams  Male   321 Oak St   444555666 LA               6   \n",
       "3           Charlie Green Male   654 Elm St   777888999 NV               8   \n",
       "4           David Miller  Male   987 Pine St  333444555 PA               0   \n",
       "5           Emma Thomas   Female 123 Maple St 666777888 CO               6   \n",
       "\n",
       "                                                              total_amount  \n",
       "customer_id name          gender address      phone     state               \n",
       "1           Alice Johnson Female 789 Main St  111222333 PA         3400.00  \n",
       "2           Bob Williams  Male   321 Oak St   444555666 LA          470.00  \n",
       "3           Charlie Green Male   654 Elm St   777888999 NV         2950.00  \n",
       "4           David Miller  Male   987 Pine St  333444555 PA               0  \n",
       "5           Emma Thomas   Female 123 Maple St 666777888 CO         1770.00  "
      ]
     },
     "execution_count": 14,
     "metadata": {},
     "output_type": "execute_result"
    }
   ],
   "source": [
    "# combine the total orders placed per customer and the total spent per customer\n",
    "dforderamount= pd.merge(left=qry_orders,right=qry_totalsum,how='inner',on=['customer_id','name','gender','address','phone','state'])\n",
    "dforderamount.head()"
   ]
  },
  {
   "cell_type": "markdown",
   "id": "55778270",
   "metadata": {},
   "source": [
    "Is there any correlation between the qty of orders and total amount spent?"
   ]
  },
  {
   "cell_type": "code",
   "execution_count": 15,
   "id": "d9cad7ce",
   "metadata": {},
   "outputs": [
    {
     "data": {
      "text/html": [
       "<div>\n",
       "<style scoped>\n",
       "    .dataframe tbody tr th:only-of-type {\n",
       "        vertical-align: middle;\n",
       "    }\n",
       "\n",
       "    .dataframe tbody tr th {\n",
       "        vertical-align: top;\n",
       "    }\n",
       "\n",
       "    .dataframe thead th {\n",
       "        text-align: right;\n",
       "    }\n",
       "</style>\n",
       "<table border=\"1\" class=\"dataframe\">\n",
       "  <thead>\n",
       "    <tr style=\"text-align: right;\">\n",
       "      <th></th>\n",
       "      <th>order count</th>\n",
       "      <th>total_amount</th>\n",
       "    </tr>\n",
       "  </thead>\n",
       "  <tbody>\n",
       "    <tr>\n",
       "      <th>order count</th>\n",
       "      <td>1.000000</td>\n",
       "      <td>0.812718</td>\n",
       "    </tr>\n",
       "    <tr>\n",
       "      <th>total_amount</th>\n",
       "      <td>0.812718</td>\n",
       "      <td>1.000000</td>\n",
       "    </tr>\n",
       "  </tbody>\n",
       "</table>\n",
       "</div>"
      ],
      "text/plain": [
       "              order count  total_amount\n",
       "order count      1.000000      0.812718\n",
       "total_amount     0.812718      1.000000"
      ]
     },
     "execution_count": 15,
     "metadata": {},
     "output_type": "execute_result"
    }
   ],
   "source": [
    "# view correlation\n",
    "dforderamount[['order count','total_amount']].corr()"
   ]
  },
  {
   "cell_type": "code",
   "execution_count": 16,
   "id": "b1434bd7",
   "metadata": {},
   "outputs": [
    {
     "data": {
      "text/plain": [
       "<Axes: xlabel='order count', ylabel='total_amount'>"
      ]
     },
     "execution_count": 16,
     "metadata": {},
     "output_type": "execute_result"
    },
    {
     "data": {
      "image/png": "[encoded data removed]",
      "text/plain": [
       "<Figure size 400x200 with 1 Axes>"
      ]
     },
     "metadata": {},
     "output_type": "display_data"
    }
   ],
   "source": [
    "dforderamount[['order count','total_amount']].plot(kind='scatter',x=0,y=1,figsize=(4,2))"
   ]
  },
  {
   "cell_type": "markdown",
   "id": "645bdc43",
   "metadata": {},
   "source": [
    "What is the gender breakdown of sales?"
   ]
  },
  {
   "cell_type": "code",
   "execution_count": 17,
   "id": "abc4f59e",
   "metadata": {},
   "outputs": [],
   "source": [
    "# change total column d type\n",
    "dfcustomerorders['total_amount'] = pd.to_numeric(dfcustomerorders['total_amount'], errors='coerce')"
   ]
  },
  {
   "cell_type": "code",
   "execution_count": 18,
   "id": "7c6e27a3",
   "metadata": {},
   "outputs": [
    {
     "data": {
      "text/html": [
       "<div>\n",
       "<style scoped>\n",
       "    .dataframe tbody tr th:only-of-type {\n",
       "        vertical-align: middle;\n",
       "    }\n",
       "\n",
       "    .dataframe tbody tr th {\n",
       "        vertical-align: top;\n",
       "    }\n",
       "\n",
       "    .dataframe thead th {\n",
       "        text-align: right;\n",
       "    }\n",
       "</style>\n",
       "<table border=\"1\" class=\"dataframe\">\n",
       "  <thead>\n",
       "    <tr style=\"text-align: right;\">\n",
       "      <th></th>\n",
       "      <th>total_amount</th>\n",
       "    </tr>\n",
       "    <tr>\n",
       "      <th>gender</th>\n",
       "      <th></th>\n",
       "    </tr>\n",
       "  </thead>\n",
       "  <tbody>\n",
       "    <tr>\n",
       "      <th>Female</th>\n",
       "      <td>6670.0</td>\n",
       "    </tr>\n",
       "    <tr>\n",
       "      <th>Male</th>\n",
       "      <td>6440.0</td>\n",
       "    </tr>\n",
       "  </tbody>\n",
       "</table>\n",
       "</div>"
      ],
      "text/plain": [
       "        total_amount\n",
       "gender              \n",
       "Female        6670.0\n",
       "Male          6440.0"
      ]
     },
     "execution_count": 18,
     "metadata": {},
     "output_type": "execute_result"
    }
   ],
   "source": [
    "# calcutes sales by gender\n",
    "dfcustomerorders[['gender','total_amount']].groupby(by='gender').sum()"
   ]
  },
  {
   "cell_type": "code",
   "execution_count": 19,
   "id": "5f9bc5b9",
   "metadata": {},
   "outputs": [
    {
     "data": {
      "text/plain": [
       "<Axes: ylabel='total_amount'>"
      ]
     },
     "execution_count": 19,
     "metadata": {},
     "output_type": "execute_result"
    },
    {
     "data": {
      "image/png": "[encoded data removed]",
      "text/plain": [
       "<Figure size 200x200 with 1 Axes>"
      ]
     },
     "metadata": {},
     "output_type": "display_data"
    }
   ],
   "source": [
    "dfcustomerorders[['gender','total_amount']].groupby(by='gender').sum().plot(kind='pie',y=0,figsize=(2,2),legend=False)"
   ]
  },
  {
   "cell_type": "code",
   "execution_count": 20,
   "id": "731342da",
   "metadata": {},
   "outputs": [],
   "source": [
    "# reset the index of df for better analysis\n",
    "dforderamount.reset_index(inplace=True)\n",
    "dforderamount.set_index('customer_id',inplace=True)"
   ]
  },
  {
   "cell_type": "markdown",
   "id": "90774124",
   "metadata": {},
   "source": [
    "What is the sales breakdown by state?"
   ]
  },
  {
   "cell_type": "code",
   "execution_count": 21,
   "id": "976b075d",
   "metadata": {},
   "outputs": [
    {
     "data": {
      "text/html": [
       "<div>\n",
       "<style scoped>\n",
       "    .dataframe tbody tr th:only-of-type {\n",
       "        vertical-align: middle;\n",
       "    }\n",
       "\n",
       "    .dataframe tbody tr th {\n",
       "        vertical-align: top;\n",
       "    }\n",
       "\n",
       "    .dataframe thead th {\n",
       "        text-align: right;\n",
       "    }\n",
       "</style>\n",
       "<table border=\"1\" class=\"dataframe\">\n",
       "  <thead>\n",
       "    <tr style=\"text-align: right;\">\n",
       "      <th></th>\n",
       "      <th>order count</th>\n",
       "      <th>total_amount</th>\n",
       "    </tr>\n",
       "    <tr>\n",
       "      <th>state</th>\n",
       "      <th></th>\n",
       "      <th></th>\n",
       "    </tr>\n",
       "  </thead>\n",
       "  <tbody>\n",
       "    <tr>\n",
       "      <th>CO</th>\n",
       "      <td>6</td>\n",
       "      <td>1770.00</td>\n",
       "    </tr>\n",
       "    <tr>\n",
       "      <th>FL</th>\n",
       "      <td>0</td>\n",
       "      <td>0</td>\n",
       "    </tr>\n",
       "    <tr>\n",
       "      <th>LA</th>\n",
       "      <td>10</td>\n",
       "      <td>2070.00</td>\n",
       "    </tr>\n",
       "    <tr>\n",
       "      <th>NC</th>\n",
       "      <td>0</td>\n",
       "      <td>0</td>\n",
       "    </tr>\n",
       "    <tr>\n",
       "      <th>NV</th>\n",
       "      <td>8</td>\n",
       "      <td>2950.00</td>\n",
       "    </tr>\n",
       "    <tr>\n",
       "      <th>NY</th>\n",
       "      <td>2</td>\n",
       "      <td>120.00</td>\n",
       "    </tr>\n",
       "    <tr>\n",
       "      <th>PA</th>\n",
       "      <td>4</td>\n",
       "      <td>3400.00</td>\n",
       "    </tr>\n",
       "    <tr>\n",
       "      <th>RI</th>\n",
       "      <td>4</td>\n",
       "      <td>1300.00</td>\n",
       "    </tr>\n",
       "    <tr>\n",
       "      <th>TX</th>\n",
       "      <td>6</td>\n",
       "      <td>1500.00</td>\n",
       "    </tr>\n",
       "    <tr>\n",
       "      <th>VA</th>\n",
       "      <td>0</td>\n",
       "      <td>0</td>\n",
       "    </tr>\n",
       "  </tbody>\n",
       "</table>\n",
       "</div>"
      ],
      "text/plain": [
       "       order count total_amount\n",
       "state                          \n",
       "CO               6      1770.00\n",
       "FL               0            0\n",
       "LA              10      2070.00\n",
       "NC               0            0\n",
       "NV               8      2950.00\n",
       "NY               2       120.00\n",
       "PA               4      3400.00\n",
       "RI               4      1300.00\n",
       "TX               6      1500.00\n",
       "VA               0            0"
      ]
     },
     "execution_count": 21,
     "metadata": {},
     "output_type": "execute_result"
    }
   ],
   "source": [
    "# query the total amount sold by state.\n",
    "qry_salesbystate = dforderamount[['state','order count','total_amount']].groupby(by='state').sum()\n",
    "qry_salesbystate"
   ]
  },
  {
   "cell_type": "code",
   "execution_count": 22,
   "id": "885ce492",
   "metadata": {},
   "outputs": [],
   "source": [
    "# change data type of total amount column\n",
    "qry_salesbystate['total_amount'] = pd.to_numeric(qry_salesbystate['total_amount'], errors='coerce')"
   ]
  },
  {
   "cell_type": "code",
   "execution_count": 23,
   "id": "e0fa7076",
   "metadata": {},
   "outputs": [
    {
     "data": {
      "text/plain": [
       "<Axes: ylabel='state'>"
      ]
     },
     "execution_count": 23,
     "metadata": {},
     "output_type": "execute_result"
    },
    {
     "data": {
      "image/png": "[encoded data removed]",
      "text/plain": [
       "<Figure size 400x200 with 1 Axes>"
      ]
     },
     "metadata": {},
     "output_type": "display_data"
    }
   ],
   "source": [
    "(qry_salesbystate\n",
    " .loc[qry_salesbystate['total_amount']>0]\n",
    " .sort_values(by='total_amount')\n",
    " .plot(kind='barh',figsize=(4,2),legend=False))"
   ]
  },
  {
   "cell_type": "markdown",
   "id": "915a9bd9",
   "metadata": {},
   "source": [
    "What state is placing the most orders?"
   ]
  },
  {
   "cell_type": "code",
   "execution_count": 24,
   "id": "c6a72651",
   "metadata": {},
   "outputs": [
    {
     "data": {
      "text/plain": [
       "<Axes: ylabel='state'>"
      ]
     },
     "execution_count": 24,
     "metadata": {},
     "output_type": "execute_result"
    },
    {
     "data": {
      "image/png": "[encoded data removed]",
      "text/plain": [
       "<Figure size 400x200 with 1 Axes>"
      ]
     },
     "metadata": {},
     "output_type": "display_data"
    }
   ],
   "source": [
    "# states with the most customers\n",
    "dfcustomer[['state','name']].groupby(by='state').count().sort_values(by='name',ascending=False).plot(kind='barh',figsize=(4,2))"
   ]
  }
 ],
 "metadata": {
  "kernelspec": {
   "display_name": "Python 3",
   "language": "python",
   "name": "python3"
  },
  "language_info": {
   "codemirror_mode": {
    "name": "ipython",
    "version": 3
   },
   "file_extension": ".py",
   "mimetype": "text/x-python",
   "name": "python",
   "nbconvert_exporter": "python",
   "pygments_lexer": "ipython3",
   "version": "3.13.2"
  }
 },
 "nbformat": 4,
 "nbformat_minor": 5
}
